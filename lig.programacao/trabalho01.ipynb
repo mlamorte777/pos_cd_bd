{
 "cells": [
  {
   "cell_type": "code",
   "execution_count": 2,
   "metadata": {},
   "outputs": [],
   "source": [
    "import pandas as pd\n",
    "import plotly.express as px"
   ]
  },
  {
   "cell_type": "code",
   "execution_count": 3,
   "metadata": {},
   "outputs": [],
   "source": [
    "df = pd.read_csv(r'historico-alg1_SIGA_ANONIMIZADO.csv')"
   ]
  },
  {
   "cell_type": "code",
   "execution_count": 4,
   "metadata": {},
   "outputs": [
    {
     "data": {
      "text/html": [
       "<div>\n",
       "<style scoped>\n",
       "    .dataframe tbody tr th:only-of-type {\n",
       "        vertical-align: middle;\n",
       "    }\n",
       "\n",
       "    .dataframe tbody tr th {\n",
       "        vertical-align: top;\n",
       "    }\n",
       "\n",
       "    .dataframe thead th {\n",
       "        text-align: right;\n",
       "    }\n",
       "</style>\n",
       "<table border=\"1\" class=\"dataframe\">\n",
       "  <thead>\n",
       "    <tr style=\"text-align: right;\">\n",
       "      <th></th>\n",
       "      <th>matricula</th>\n",
       "      <th>codigo</th>\n",
       "      <th>disciplina</th>\n",
       "      <th>periodo</th>\n",
       "      <th>ano</th>\n",
       "      <th>curriculo</th>\n",
       "      <th>ch</th>\n",
       "      <th>nota</th>\n",
       "      <th>frequencia</th>\n",
       "      <th>status</th>\n",
       "      <th>tipo</th>\n",
       "      <th>observacao</th>\n",
       "      <th>natureza</th>\n",
       "      <th>situacaoDiscente</th>\n",
       "      <th>nomeTuma</th>\n",
       "      <th>codigoCurriculoSie</th>\n",
       "    </tr>\n",
       "  </thead>\n",
       "  <tbody>\n",
       "    <tr>\n",
       "      <th>0</th>\n",
       "      <td>0</td>\n",
       "      <td>CI055</td>\n",
       "      <td>ALGORITMOS E ESTRUTURAS DE DADOS I</td>\n",
       "      <td>1</td>\n",
       "      <td>2016</td>\n",
       "      <td>Sim</td>\n",
       "      <td>60</td>\n",
       "      <td>67</td>\n",
       "      <td>96</td>\n",
       "      <td>Aprovado</td>\n",
       "      <td>TURMA</td>\n",
       "      <td>C</td>\n",
       "      <td>Obrigatória</td>\n",
       "      <td>Conclusão formatura</td>\n",
       "      <td>NaN</td>\n",
       "      <td>21A</td>\n",
       "    </tr>\n",
       "    <tr>\n",
       "      <th>1</th>\n",
       "      <td>1</td>\n",
       "      <td>CI1055</td>\n",
       "      <td>ALGORITMOS E ESTRUTURAS DE DADOS 1</td>\n",
       "      <td>1</td>\n",
       "      <td>2019</td>\n",
       "      <td>Sim</td>\n",
       "      <td>60</td>\n",
       "      <td>0</td>\n",
       "      <td>73</td>\n",
       "      <td>R-freq</td>\n",
       "      <td>TURMA</td>\n",
       "      <td>NaN</td>\n",
       "      <td>Obrigatória</td>\n",
       "      <td>Registro ativo</td>\n",
       "      <td>A</td>\n",
       "      <td>21A</td>\n",
       "    </tr>\n",
       "    <tr>\n",
       "      <th>2</th>\n",
       "      <td>1</td>\n",
       "      <td>CI1055</td>\n",
       "      <td>ALGORITMOS E ESTRUTURAS DE DADOS 1</td>\n",
       "      <td>2</td>\n",
       "      <td>2019</td>\n",
       "      <td>Sim</td>\n",
       "      <td>60</td>\n",
       "      <td>11</td>\n",
       "      <td>76</td>\n",
       "      <td>R-nota</td>\n",
       "      <td>TURMA</td>\n",
       "      <td>NaN</td>\n",
       "      <td>Obrigatória</td>\n",
       "      <td>Registro ativo</td>\n",
       "      <td>B</td>\n",
       "      <td>21A</td>\n",
       "    </tr>\n",
       "    <tr>\n",
       "      <th>3</th>\n",
       "      <td>1</td>\n",
       "      <td>CI1055</td>\n",
       "      <td>ALGORITMOS E ESTRUTURAS DE DADOS 1</td>\n",
       "      <td>2</td>\n",
       "      <td>2020</td>\n",
       "      <td>Sim</td>\n",
       "      <td>60</td>\n",
       "      <td>0</td>\n",
       "      <td>0</td>\n",
       "      <td>Cancelado</td>\n",
       "      <td>TURMA</td>\n",
       "      <td>NaN</td>\n",
       "      <td>Obrigatória</td>\n",
       "      <td>Registro ativo</td>\n",
       "      <td>B</td>\n",
       "      <td>21A</td>\n",
       "    </tr>\n",
       "    <tr>\n",
       "      <th>4</th>\n",
       "      <td>1</td>\n",
       "      <td>CI1055</td>\n",
       "      <td>ALGORITMOS E ESTRUTURAS DE DADOS 1</td>\n",
       "      <td>1</td>\n",
       "      <td>2020</td>\n",
       "      <td>Sim</td>\n",
       "      <td>60</td>\n",
       "      <td>0</td>\n",
       "      <td>0</td>\n",
       "      <td>Cancelado</td>\n",
       "      <td>TURMA</td>\n",
       "      <td>NaN</td>\n",
       "      <td>Obrigatória</td>\n",
       "      <td>Registro ativo</td>\n",
       "      <td>ERE 2 - D</td>\n",
       "      <td>21A</td>\n",
       "    </tr>\n",
       "  </tbody>\n",
       "</table>\n",
       "</div>"
      ],
      "text/plain": [
       "   matricula  codigo                          disciplina periodo   ano  \\\n",
       "0          0   CI055  ALGORITMOS E ESTRUTURAS DE DADOS I       1  2016   \n",
       "1          1  CI1055  ALGORITMOS E ESTRUTURAS DE DADOS 1       1  2019   \n",
       "2          1  CI1055  ALGORITMOS E ESTRUTURAS DE DADOS 1       2  2019   \n",
       "3          1  CI1055  ALGORITMOS E ESTRUTURAS DE DADOS 1       2  2020   \n",
       "4          1  CI1055  ALGORITMOS E ESTRUTURAS DE DADOS 1       1  2020   \n",
       "\n",
       "  curriculo  ch  nota  frequencia     status   tipo observacao     natureza  \\\n",
       "0       Sim  60    67          96   Aprovado  TURMA          C  Obrigatória   \n",
       "1       Sim  60     0          73     R-freq  TURMA        NaN  Obrigatória   \n",
       "2       Sim  60    11          76     R-nota  TURMA        NaN  Obrigatória   \n",
       "3       Sim  60     0           0  Cancelado  TURMA        NaN  Obrigatória   \n",
       "4       Sim  60     0           0  Cancelado  TURMA        NaN  Obrigatória   \n",
       "\n",
       "      situacaoDiscente   nomeTuma codigoCurriculoSie  \n",
       "0  Conclusão formatura        NaN                21A  \n",
       "1       Registro ativo          A                21A  \n",
       "2       Registro ativo          B                21A  \n",
       "3       Registro ativo          B                21A  \n",
       "4       Registro ativo  ERE 2 - D                21A  "
      ]
     },
     "execution_count": 4,
     "metadata": {},
     "output_type": "execute_result"
    }
   ],
   "source": [
    "df.head(5)"
   ]
  },
  {
   "cell_type": "code",
   "execution_count": 5,
   "metadata": {},
   "outputs": [
    {
     "data": {
      "text/html": [
       "<div>\n",
       "<style scoped>\n",
       "    .dataframe tbody tr th:only-of-type {\n",
       "        vertical-align: middle;\n",
       "    }\n",
       "\n",
       "    .dataframe tbody tr th {\n",
       "        vertical-align: top;\n",
       "    }\n",
       "\n",
       "    .dataframe thead th {\n",
       "        text-align: right;\n",
       "    }\n",
       "</style>\n",
       "<table border=\"1\" class=\"dataframe\">\n",
       "  <thead>\n",
       "    <tr style=\"text-align: right;\">\n",
       "      <th></th>\n",
       "      <th>matricula</th>\n",
       "      <th>codigo</th>\n",
       "      <th>disciplina</th>\n",
       "      <th>periodo</th>\n",
       "      <th>ano</th>\n",
       "      <th>curriculo</th>\n",
       "      <th>ch</th>\n",
       "      <th>nota</th>\n",
       "      <th>frequencia</th>\n",
       "      <th>status</th>\n",
       "      <th>tipo</th>\n",
       "      <th>observacao</th>\n",
       "      <th>natureza</th>\n",
       "      <th>situacaoDiscente</th>\n",
       "      <th>nomeTuma</th>\n",
       "      <th>codigoCurriculoSie</th>\n",
       "    </tr>\n",
       "  </thead>\n",
       "  <tbody>\n",
       "    <tr>\n",
       "      <th>55</th>\n",
       "      <td>28</td>\n",
       "      <td>CI055</td>\n",
       "      <td>ALGORITMOS E ESTRUTURAS DE DADOS I</td>\n",
       "      <td>1</td>\n",
       "      <td>2014</td>\n",
       "      <td>Sim</td>\n",
       "      <td>60</td>\n",
       "      <td>81</td>\n",
       "      <td>0</td>\n",
       "      <td>Aprovado</td>\n",
       "      <td>EQUIVALENCIA</td>\n",
       "      <td>NaN</td>\n",
       "      <td>Obrigatória</td>\n",
       "      <td>Registro ativo</td>\n",
       "      <td>NaN</td>\n",
       "      <td>21A</td>\n",
       "    </tr>\n",
       "    <tr>\n",
       "      <th>153</th>\n",
       "      <td>87</td>\n",
       "      <td>CI055</td>\n",
       "      <td>ALGORITMOS E ESTRUTURAS DE DADOS I</td>\n",
       "      <td>1</td>\n",
       "      <td>2013</td>\n",
       "      <td>Sim</td>\n",
       "      <td>60</td>\n",
       "      <td>54</td>\n",
       "      <td>0</td>\n",
       "      <td>Aprovado</td>\n",
       "      <td>EQUIVALENCIA</td>\n",
       "      <td>NaN</td>\n",
       "      <td>Obrigatória</td>\n",
       "      <td>Registro ativo</td>\n",
       "      <td>NaN</td>\n",
       "      <td>21A</td>\n",
       "    </tr>\n",
       "  </tbody>\n",
       "</table>\n",
       "</div>"
      ],
      "text/plain": [
       "     matricula codigo                          disciplina periodo   ano  \\\n",
       "55          28  CI055  ALGORITMOS E ESTRUTURAS DE DADOS I       1  2014   \n",
       "153         87  CI055  ALGORITMOS E ESTRUTURAS DE DADOS I       1  2013   \n",
       "\n",
       "    curriculo  ch  nota  frequencia    status          tipo observacao  \\\n",
       "55        Sim  60    81           0  Aprovado  EQUIVALENCIA        NaN   \n",
       "153       Sim  60    54           0  Aprovado  EQUIVALENCIA        NaN   \n",
       "\n",
       "        natureza situacaoDiscente nomeTuma codigoCurriculoSie  \n",
       "55   Obrigatória   Registro ativo      NaN                21A  \n",
       "153  Obrigatória   Registro ativo      NaN                21A  "
      ]
     },
     "execution_count": 5,
     "metadata": {},
     "output_type": "execute_result"
    }
   ],
   "source": [
    "df_teste = df[(df['tipo'] == 'EQUIVALENCIA') & (df['nota'] != 0)]\n",
    "df_teste.head()"
   ]
  },
  {
   "cell_type": "code",
   "execution_count": 6,
   "metadata": {},
   "outputs": [
    {
     "data": {
      "text/plain": [
       "matricula              int64\n",
       "codigo                object\n",
       "disciplina            object\n",
       "periodo               object\n",
       "ano                    int64\n",
       "curriculo             object\n",
       "ch                     int64\n",
       "nota                   int64\n",
       "frequencia             int64\n",
       "status                object\n",
       "tipo                  object\n",
       "observacao            object\n",
       "natureza              object\n",
       "situacaoDiscente      object\n",
       "nomeTuma              object\n",
       "codigoCurriculoSie    object\n",
       "dtype: object"
      ]
     },
     "execution_count": 6,
     "metadata": {},
     "output_type": "execute_result"
    }
   ],
   "source": [
    "df.dtypes"
   ]
  },
  {
   "cell_type": "code",
   "execution_count": 7,
   "metadata": {},
   "outputs": [],
   "source": [
    "#1. Qual a média da nota dos aprovados? No período total e por ano"
   ]
  },
  {
   "cell_type": "code",
   "execution_count": 8,
   "metadata": {},
   "outputs": [],
   "source": [
    "df_aprovados = df[(df['status'] == 'Aprovado') & (df['tipo'] != 'EQUIVALENCIA')]"
   ]
  },
  {
   "cell_type": "code",
   "execution_count": 9,
   "metadata": {},
   "outputs": [
    {
     "data": {
      "text/html": [
       "<div>\n",
       "<style scoped>\n",
       "    .dataframe tbody tr th:only-of-type {\n",
       "        vertical-align: middle;\n",
       "    }\n",
       "\n",
       "    .dataframe tbody tr th {\n",
       "        vertical-align: top;\n",
       "    }\n",
       "\n",
       "    .dataframe thead th {\n",
       "        text-align: right;\n",
       "    }\n",
       "</style>\n",
       "<table border=\"1\" class=\"dataframe\">\n",
       "  <thead>\n",
       "    <tr style=\"text-align: right;\">\n",
       "      <th></th>\n",
       "      <th>matricula</th>\n",
       "      <th>codigo</th>\n",
       "      <th>disciplina</th>\n",
       "      <th>periodo</th>\n",
       "      <th>ano</th>\n",
       "      <th>curriculo</th>\n",
       "      <th>ch</th>\n",
       "      <th>nota</th>\n",
       "      <th>frequencia</th>\n",
       "      <th>status</th>\n",
       "      <th>tipo</th>\n",
       "      <th>observacao</th>\n",
       "      <th>natureza</th>\n",
       "      <th>situacaoDiscente</th>\n",
       "      <th>nomeTuma</th>\n",
       "      <th>codigoCurriculoSie</th>\n",
       "    </tr>\n",
       "  </thead>\n",
       "  <tbody>\n",
       "    <tr>\n",
       "      <th>900</th>\n",
       "      <td>567</td>\n",
       "      <td>CI1055</td>\n",
       "      <td>ALGORITMOS E ESTRUTURAS DE DADOS 1</td>\n",
       "      <td>1</td>\n",
       "      <td>2022</td>\n",
       "      <td>Sim</td>\n",
       "      <td>60</td>\n",
       "      <td>91</td>\n",
       "      <td>100</td>\n",
       "      <td>Aprovado</td>\n",
       "      <td>TURMA</td>\n",
       "      <td>NaN</td>\n",
       "      <td>Obrigatória</td>\n",
       "      <td>Registro ativo</td>\n",
       "      <td>BCC2</td>\n",
       "      <td>21A</td>\n",
       "    </tr>\n",
       "    <tr>\n",
       "      <th>903</th>\n",
       "      <td>568</td>\n",
       "      <td>CI1055</td>\n",
       "      <td>ALGORITMOS E ESTRUTURAS DE DADOS 1</td>\n",
       "      <td>1</td>\n",
       "      <td>2021</td>\n",
       "      <td>Sim</td>\n",
       "      <td>60</td>\n",
       "      <td>88</td>\n",
       "      <td>100</td>\n",
       "      <td>Aprovado</td>\n",
       "      <td>TURMA</td>\n",
       "      <td>NaN</td>\n",
       "      <td>Obrigatória</td>\n",
       "      <td>Registro ativo</td>\n",
       "      <td>A</td>\n",
       "      <td>21A</td>\n",
       "    </tr>\n",
       "    <tr>\n",
       "      <th>905</th>\n",
       "      <td>570</td>\n",
       "      <td>CI1055</td>\n",
       "      <td>ALGORITMOS E ESTRUTURAS DE DADOS 1</td>\n",
       "      <td>1</td>\n",
       "      <td>2022</td>\n",
       "      <td>Sim</td>\n",
       "      <td>60</td>\n",
       "      <td>70</td>\n",
       "      <td>100</td>\n",
       "      <td>Aprovado</td>\n",
       "      <td>TURMA</td>\n",
       "      <td>NaN</td>\n",
       "      <td>Obrigatória</td>\n",
       "      <td>Registro ativo</td>\n",
       "      <td>BCC3</td>\n",
       "      <td>21A</td>\n",
       "    </tr>\n",
       "    <tr>\n",
       "      <th>906</th>\n",
       "      <td>571</td>\n",
       "      <td>CI055</td>\n",
       "      <td>ALGORITMOS E ESTRUTURAS DE DADOS I</td>\n",
       "      <td>1</td>\n",
       "      <td>2018</td>\n",
       "      <td>Não</td>\n",
       "      <td>60</td>\n",
       "      <td>98</td>\n",
       "      <td>100</td>\n",
       "      <td>Aprovado</td>\n",
       "      <td>TURMA</td>\n",
       "      <td>NaN</td>\n",
       "      <td>-</td>\n",
       "      <td>Registro ativo</td>\n",
       "      <td>A</td>\n",
       "      <td>21A</td>\n",
       "    </tr>\n",
       "    <tr>\n",
       "      <th>908</th>\n",
       "      <td>572</td>\n",
       "      <td>CI1055</td>\n",
       "      <td>ALGORITMOS E ESTRUTURAS DE DADOS 1</td>\n",
       "      <td>1</td>\n",
       "      <td>2021</td>\n",
       "      <td>Sim</td>\n",
       "      <td>60</td>\n",
       "      <td>83</td>\n",
       "      <td>100</td>\n",
       "      <td>Aprovado</td>\n",
       "      <td>TURMA</td>\n",
       "      <td>NaN</td>\n",
       "      <td>Obrigatória</td>\n",
       "      <td>Registro ativo</td>\n",
       "      <td>C</td>\n",
       "      <td>21A</td>\n",
       "    </tr>\n",
       "  </tbody>\n",
       "</table>\n",
       "</div>"
      ],
      "text/plain": [
       "     matricula  codigo                          disciplina periodo   ano  \\\n",
       "900        567  CI1055  ALGORITMOS E ESTRUTURAS DE DADOS 1       1  2022   \n",
       "903        568  CI1055  ALGORITMOS E ESTRUTURAS DE DADOS 1       1  2021   \n",
       "905        570  CI1055  ALGORITMOS E ESTRUTURAS DE DADOS 1       1  2022   \n",
       "906        571   CI055  ALGORITMOS E ESTRUTURAS DE DADOS I       1  2018   \n",
       "908        572  CI1055  ALGORITMOS E ESTRUTURAS DE DADOS 1       1  2021   \n",
       "\n",
       "    curriculo  ch  nota  frequencia    status   tipo observacao     natureza  \\\n",
       "900       Sim  60    91         100  Aprovado  TURMA        NaN  Obrigatória   \n",
       "903       Sim  60    88         100  Aprovado  TURMA        NaN  Obrigatória   \n",
       "905       Sim  60    70         100  Aprovado  TURMA        NaN  Obrigatória   \n",
       "906       Não  60    98         100  Aprovado  TURMA        NaN            -   \n",
       "908       Sim  60    83         100  Aprovado  TURMA        NaN  Obrigatória   \n",
       "\n",
       "    situacaoDiscente nomeTuma codigoCurriculoSie  \n",
       "900   Registro ativo     BCC2                21A  \n",
       "903   Registro ativo        A                21A  \n",
       "905   Registro ativo     BCC3                21A  \n",
       "906   Registro ativo        A                21A  \n",
       "908   Registro ativo        C                21A  "
      ]
     },
     "execution_count": 9,
     "metadata": {},
     "output_type": "execute_result"
    }
   ],
   "source": [
    "df_aprovados.tail()"
   ]
  },
  {
   "cell_type": "code",
   "execution_count": 10,
   "metadata": {},
   "outputs": [
    {
     "data": {
      "text/plain": [
       "77.58004158004158"
      ]
     },
     "execution_count": 10,
     "metadata": {},
     "output_type": "execute_result"
    }
   ],
   "source": [
    "df_aprovados['nota'].mean()"
   ]
  },
  {
   "cell_type": "code",
   "execution_count": 11,
   "metadata": {},
   "outputs": [],
   "source": [
    "df_aprovados_gb = df_aprovados.groupby('ano').agg({'nota':'mean'}).reset_index()"
   ]
  },
  {
   "cell_type": "code",
   "execution_count": 12,
   "metadata": {},
   "outputs": [
    {
     "data": {
      "text/html": [
       "<div>\n",
       "<style scoped>\n",
       "    .dataframe tbody tr th:only-of-type {\n",
       "        vertical-align: middle;\n",
       "    }\n",
       "\n",
       "    .dataframe tbody tr th {\n",
       "        vertical-align: top;\n",
       "    }\n",
       "\n",
       "    .dataframe thead th {\n",
       "        text-align: right;\n",
       "    }\n",
       "</style>\n",
       "<table border=\"1\" class=\"dataframe\">\n",
       "  <thead>\n",
       "    <tr style=\"text-align: right;\">\n",
       "      <th></th>\n",
       "      <th>ano</th>\n",
       "      <th>nota</th>\n",
       "    </tr>\n",
       "  </thead>\n",
       "  <tbody>\n",
       "    <tr>\n",
       "      <th>0</th>\n",
       "      <td>2011</td>\n",
       "      <td>50.000000</td>\n",
       "    </tr>\n",
       "    <tr>\n",
       "      <th>1</th>\n",
       "      <td>2013</td>\n",
       "      <td>72.714286</td>\n",
       "    </tr>\n",
       "    <tr>\n",
       "      <th>2</th>\n",
       "      <td>2014</td>\n",
       "      <td>70.666667</td>\n",
       "    </tr>\n",
       "    <tr>\n",
       "      <th>3</th>\n",
       "      <td>2015</td>\n",
       "      <td>68.576923</td>\n",
       "    </tr>\n",
       "    <tr>\n",
       "      <th>4</th>\n",
       "      <td>2016</td>\n",
       "      <td>72.093023</td>\n",
       "    </tr>\n",
       "    <tr>\n",
       "      <th>5</th>\n",
       "      <td>2017</td>\n",
       "      <td>78.106061</td>\n",
       "    </tr>\n",
       "    <tr>\n",
       "      <th>6</th>\n",
       "      <td>2018</td>\n",
       "      <td>76.406250</td>\n",
       "    </tr>\n",
       "    <tr>\n",
       "      <th>7</th>\n",
       "      <td>2019</td>\n",
       "      <td>74.741176</td>\n",
       "    </tr>\n",
       "    <tr>\n",
       "      <th>8</th>\n",
       "      <td>2020</td>\n",
       "      <td>84.466667</td>\n",
       "    </tr>\n",
       "    <tr>\n",
       "      <th>9</th>\n",
       "      <td>2021</td>\n",
       "      <td>83.882353</td>\n",
       "    </tr>\n",
       "    <tr>\n",
       "      <th>10</th>\n",
       "      <td>2022</td>\n",
       "      <td>77.818182</td>\n",
       "    </tr>\n",
       "  </tbody>\n",
       "</table>\n",
       "</div>"
      ],
      "text/plain": [
       "     ano       nota\n",
       "0   2011  50.000000\n",
       "1   2013  72.714286\n",
       "2   2014  70.666667\n",
       "3   2015  68.576923\n",
       "4   2016  72.093023\n",
       "5   2017  78.106061\n",
       "6   2018  76.406250\n",
       "7   2019  74.741176\n",
       "8   2020  84.466667\n",
       "9   2021  83.882353\n",
       "10  2022  77.818182"
      ]
     },
     "execution_count": 12,
     "metadata": {},
     "output_type": "execute_result"
    }
   ],
   "source": [
    "df_aprovados_gb.head(11)"
   ]
  },
  {
   "cell_type": "code",
   "execution_count": 13,
   "metadata": {},
   "outputs": [],
   "source": [
    "#2. Qual é a média de nota dos reprovados por nota (período total e ano)?"
   ]
  },
  {
   "cell_type": "code",
   "execution_count": 14,
   "metadata": {},
   "outputs": [],
   "source": [
    "df_reprovados = df[df['status'] == 'R-nota']"
   ]
  },
  {
   "cell_type": "code",
   "execution_count": 15,
   "metadata": {},
   "outputs": [
    {
     "data": {
      "text/html": [
       "<div>\n",
       "<style scoped>\n",
       "    .dataframe tbody tr th:only-of-type {\n",
       "        vertical-align: middle;\n",
       "    }\n",
       "\n",
       "    .dataframe tbody tr th {\n",
       "        vertical-align: top;\n",
       "    }\n",
       "\n",
       "    .dataframe thead th {\n",
       "        text-align: right;\n",
       "    }\n",
       "</style>\n",
       "<table border=\"1\" class=\"dataframe\">\n",
       "  <thead>\n",
       "    <tr style=\"text-align: right;\">\n",
       "      <th></th>\n",
       "      <th>matricula</th>\n",
       "      <th>codigo</th>\n",
       "      <th>disciplina</th>\n",
       "      <th>periodo</th>\n",
       "      <th>ano</th>\n",
       "      <th>curriculo</th>\n",
       "      <th>ch</th>\n",
       "      <th>nota</th>\n",
       "      <th>frequencia</th>\n",
       "      <th>status</th>\n",
       "      <th>tipo</th>\n",
       "      <th>observacao</th>\n",
       "      <th>natureza</th>\n",
       "      <th>situacaoDiscente</th>\n",
       "      <th>nomeTuma</th>\n",
       "      <th>codigoCurriculoSie</th>\n",
       "    </tr>\n",
       "  </thead>\n",
       "  <tbody>\n",
       "    <tr>\n",
       "      <th>2</th>\n",
       "      <td>1</td>\n",
       "      <td>CI1055</td>\n",
       "      <td>ALGORITMOS E ESTRUTURAS DE DADOS 1</td>\n",
       "      <td>2</td>\n",
       "      <td>2019</td>\n",
       "      <td>Sim</td>\n",
       "      <td>60</td>\n",
       "      <td>11</td>\n",
       "      <td>76</td>\n",
       "      <td>R-nota</td>\n",
       "      <td>TURMA</td>\n",
       "      <td>NaN</td>\n",
       "      <td>Obrigatória</td>\n",
       "      <td>Registro ativo</td>\n",
       "      <td>B</td>\n",
       "      <td>21A</td>\n",
       "    </tr>\n",
       "    <tr>\n",
       "      <th>6</th>\n",
       "      <td>1</td>\n",
       "      <td>CI1055</td>\n",
       "      <td>ALGORITMOS E ESTRUTURAS DE DADOS 1</td>\n",
       "      <td>2</td>\n",
       "      <td>2021</td>\n",
       "      <td>Sim</td>\n",
       "      <td>60</td>\n",
       "      <td>21</td>\n",
       "      <td>80</td>\n",
       "      <td>R-nota</td>\n",
       "      <td>TURMA</td>\n",
       "      <td>NaN</td>\n",
       "      <td>Obrigatória</td>\n",
       "      <td>Registro ativo</td>\n",
       "      <td>D</td>\n",
       "      <td>21A</td>\n",
       "    </tr>\n",
       "    <tr>\n",
       "      <th>13</th>\n",
       "      <td>5</td>\n",
       "      <td>CI055</td>\n",
       "      <td>ALGORITMOS E ESTRUTURAS DE DADOS I</td>\n",
       "      <td>1</td>\n",
       "      <td>2016</td>\n",
       "      <td>Não</td>\n",
       "      <td>60</td>\n",
       "      <td>1</td>\n",
       "      <td>83</td>\n",
       "      <td>R-nota</td>\n",
       "      <td>TURMA</td>\n",
       "      <td>NaN</td>\n",
       "      <td>-</td>\n",
       "      <td>Registro ativo</td>\n",
       "      <td>D</td>\n",
       "      <td>21A</td>\n",
       "    </tr>\n",
       "    <tr>\n",
       "      <th>14</th>\n",
       "      <td>5</td>\n",
       "      <td>CI055</td>\n",
       "      <td>ALGORITMOS E ESTRUTURAS DE DADOS I</td>\n",
       "      <td>2</td>\n",
       "      <td>2016</td>\n",
       "      <td>Não</td>\n",
       "      <td>60</td>\n",
       "      <td>29</td>\n",
       "      <td>86</td>\n",
       "      <td>R-nota</td>\n",
       "      <td>TURMA</td>\n",
       "      <td>NaN</td>\n",
       "      <td>-</td>\n",
       "      <td>Registro ativo</td>\n",
       "      <td>C</td>\n",
       "      <td>21A</td>\n",
       "    </tr>\n",
       "    <tr>\n",
       "      <th>19</th>\n",
       "      <td>7</td>\n",
       "      <td>CI055</td>\n",
       "      <td>ALGORITMOS E ESTRUTURAS DE DADOS I</td>\n",
       "      <td>1</td>\n",
       "      <td>2018</td>\n",
       "      <td>Não</td>\n",
       "      <td>60</td>\n",
       "      <td>1</td>\n",
       "      <td>93</td>\n",
       "      <td>R-nota</td>\n",
       "      <td>TURMA</td>\n",
       "      <td>NaN</td>\n",
       "      <td>-</td>\n",
       "      <td>Registro ativo</td>\n",
       "      <td>D</td>\n",
       "      <td>21A</td>\n",
       "    </tr>\n",
       "  </tbody>\n",
       "</table>\n",
       "</div>"
      ],
      "text/plain": [
       "    matricula  codigo                          disciplina periodo   ano  \\\n",
       "2           1  CI1055  ALGORITMOS E ESTRUTURAS DE DADOS 1       2  2019   \n",
       "6           1  CI1055  ALGORITMOS E ESTRUTURAS DE DADOS 1       2  2021   \n",
       "13          5   CI055  ALGORITMOS E ESTRUTURAS DE DADOS I       1  2016   \n",
       "14          5   CI055  ALGORITMOS E ESTRUTURAS DE DADOS I       2  2016   \n",
       "19          7   CI055  ALGORITMOS E ESTRUTURAS DE DADOS I       1  2018   \n",
       "\n",
       "   curriculo  ch  nota  frequencia  status   tipo observacao     natureza  \\\n",
       "2        Sim  60    11          76  R-nota  TURMA        NaN  Obrigatória   \n",
       "6        Sim  60    21          80  R-nota  TURMA        NaN  Obrigatória   \n",
       "13       Não  60     1          83  R-nota  TURMA        NaN            -   \n",
       "14       Não  60    29          86  R-nota  TURMA        NaN            -   \n",
       "19       Não  60     1          93  R-nota  TURMA        NaN            -   \n",
       "\n",
       "   situacaoDiscente nomeTuma codigoCurriculoSie  \n",
       "2    Registro ativo        B                21A  \n",
       "6    Registro ativo        D                21A  \n",
       "13   Registro ativo        D                21A  \n",
       "14   Registro ativo        C                21A  \n",
       "19   Registro ativo        D                21A  "
      ]
     },
     "execution_count": 15,
     "metadata": {},
     "output_type": "execute_result"
    }
   ],
   "source": [
    "df_reprovados.head()"
   ]
  },
  {
   "cell_type": "code",
   "execution_count": 16,
   "metadata": {},
   "outputs": [
    {
     "data": {
      "text/plain": [
       "22.037037037037038"
      ]
     },
     "execution_count": 16,
     "metadata": {},
     "output_type": "execute_result"
    }
   ],
   "source": [
    "df_reprovados['nota'].mean()"
   ]
  },
  {
   "cell_type": "code",
   "execution_count": 17,
   "metadata": {},
   "outputs": [],
   "source": [
    "df_reprovados_gb = df_reprovados.groupby('ano').agg({'nota':'mean'}).reset_index()"
   ]
  },
  {
   "cell_type": "code",
   "execution_count": 18,
   "metadata": {},
   "outputs": [
    {
     "data": {
      "text/html": [
       "<div>\n",
       "<style scoped>\n",
       "    .dataframe tbody tr th:only-of-type {\n",
       "        vertical-align: middle;\n",
       "    }\n",
       "\n",
       "    .dataframe tbody tr th {\n",
       "        vertical-align: top;\n",
       "    }\n",
       "\n",
       "    .dataframe thead th {\n",
       "        text-align: right;\n",
       "    }\n",
       "</style>\n",
       "<table border=\"1\" class=\"dataframe\">\n",
       "  <thead>\n",
       "    <tr style=\"text-align: right;\">\n",
       "      <th></th>\n",
       "      <th>ano</th>\n",
       "      <th>nota</th>\n",
       "    </tr>\n",
       "  </thead>\n",
       "  <tbody>\n",
       "    <tr>\n",
       "      <th>0</th>\n",
       "      <td>2012</td>\n",
       "      <td>24.000000</td>\n",
       "    </tr>\n",
       "    <tr>\n",
       "      <th>1</th>\n",
       "      <td>2013</td>\n",
       "      <td>30.000000</td>\n",
       "    </tr>\n",
       "    <tr>\n",
       "      <th>2</th>\n",
       "      <td>2014</td>\n",
       "      <td>25.000000</td>\n",
       "    </tr>\n",
       "    <tr>\n",
       "      <th>3</th>\n",
       "      <td>2015</td>\n",
       "      <td>19.833333</td>\n",
       "    </tr>\n",
       "    <tr>\n",
       "      <th>4</th>\n",
       "      <td>2016</td>\n",
       "      <td>15.400000</td>\n",
       "    </tr>\n",
       "    <tr>\n",
       "      <th>5</th>\n",
       "      <td>2017</td>\n",
       "      <td>25.904762</td>\n",
       "    </tr>\n",
       "    <tr>\n",
       "      <th>6</th>\n",
       "      <td>2018</td>\n",
       "      <td>23.136364</td>\n",
       "    </tr>\n",
       "    <tr>\n",
       "      <th>7</th>\n",
       "      <td>2019</td>\n",
       "      <td>23.321429</td>\n",
       "    </tr>\n",
       "    <tr>\n",
       "      <th>8</th>\n",
       "      <td>2020</td>\n",
       "      <td>25.875000</td>\n",
       "    </tr>\n",
       "    <tr>\n",
       "      <th>9</th>\n",
       "      <td>2021</td>\n",
       "      <td>19.589744</td>\n",
       "    </tr>\n",
       "    <tr>\n",
       "      <th>10</th>\n",
       "      <td>2022</td>\n",
       "      <td>19.777778</td>\n",
       "    </tr>\n",
       "  </tbody>\n",
       "</table>\n",
       "</div>"
      ],
      "text/plain": [
       "     ano       nota\n",
       "0   2012  24.000000\n",
       "1   2013  30.000000\n",
       "2   2014  25.000000\n",
       "3   2015  19.833333\n",
       "4   2016  15.400000\n",
       "5   2017  25.904762\n",
       "6   2018  23.136364\n",
       "7   2019  23.321429\n",
       "8   2020  25.875000\n",
       "9   2021  19.589744\n",
       "10  2022  19.777778"
      ]
     },
     "execution_count": 18,
     "metadata": {},
     "output_type": "execute_result"
    }
   ],
   "source": [
    "df_reprovados_gb.head(11)"
   ]
  },
  {
   "cell_type": "code",
   "execution_count": 19,
   "metadata": {},
   "outputs": [],
   "source": [
    "#3. Qual é a frequência dos reprovados por nota (período total e por ano)?"
   ]
  },
  {
   "cell_type": "code",
   "execution_count": 20,
   "metadata": {},
   "outputs": [
    {
     "data": {
      "text/plain": [
       "status\n",
       "Aprovado       0.686469\n",
       "R-nota         0.178218\n",
       "R-freq         0.053905\n",
       "Cancelado      0.040704\n",
       "Matriculado    0.039604\n",
       "Reprovado      0.001100\n",
       "Name: proportion, dtype: float64"
      ]
     },
     "execution_count": 20,
     "metadata": {},
     "output_type": "execute_result"
    }
   ],
   "source": [
    "df['status'].value_counts('R-nota')"
   ]
  },
  {
   "cell_type": "code",
   "execution_count": 21,
   "metadata": {},
   "outputs": [],
   "source": [
    "#4. Qual a porcentagem de evasões (total e anual)?"
   ]
  },
  {
   "cell_type": "code",
   "execution_count": 22,
   "metadata": {},
   "outputs": [
    {
     "data": {
      "text/plain": [
       "situacaoDiscente\n",
       "Registro ativo         0.671067\n",
       "Evasão                 0.156216\n",
       "Conclusão formatura    0.113311\n",
       "Trancamento            0.059406\n",
       "Name: proportion, dtype: float64"
      ]
     },
     "execution_count": 22,
     "metadata": {},
     "output_type": "execute_result"
    }
   ],
   "source": [
    "df['situacaoDiscente'].value_counts('Evasão')"
   ]
  },
  {
   "cell_type": "code",
   "execution_count": 23,
   "metadata": {},
   "outputs": [
    {
     "data": {
      "text/html": [
       "<div>\n",
       "<style scoped>\n",
       "    .dataframe tbody tr th:only-of-type {\n",
       "        vertical-align: middle;\n",
       "    }\n",
       "\n",
       "    .dataframe tbody tr th {\n",
       "        vertical-align: top;\n",
       "    }\n",
       "\n",
       "    .dataframe thead th {\n",
       "        text-align: right;\n",
       "    }\n",
       "</style>\n",
       "<table border=\"1\" class=\"dataframe\">\n",
       "  <thead>\n",
       "    <tr style=\"text-align: right;\">\n",
       "      <th></th>\n",
       "      <th>ano</th>\n",
       "      <th>evasao</th>\n",
       "    </tr>\n",
       "  </thead>\n",
       "  <tbody>\n",
       "    <tr>\n",
       "      <th>0</th>\n",
       "      <td>2013</td>\n",
       "      <td>7</td>\n",
       "    </tr>\n",
       "    <tr>\n",
       "      <th>1</th>\n",
       "      <td>2014</td>\n",
       "      <td>3</td>\n",
       "    </tr>\n",
       "    <tr>\n",
       "      <th>2</th>\n",
       "      <td>2015</td>\n",
       "      <td>7</td>\n",
       "    </tr>\n",
       "    <tr>\n",
       "      <th>3</th>\n",
       "      <td>2016</td>\n",
       "      <td>8</td>\n",
       "    </tr>\n",
       "    <tr>\n",
       "      <th>4</th>\n",
       "      <td>2017</td>\n",
       "      <td>17</td>\n",
       "    </tr>\n",
       "    <tr>\n",
       "      <th>5</th>\n",
       "      <td>2018</td>\n",
       "      <td>22</td>\n",
       "    </tr>\n",
       "    <tr>\n",
       "      <th>6</th>\n",
       "      <td>2019</td>\n",
       "      <td>39</td>\n",
       "    </tr>\n",
       "    <tr>\n",
       "      <th>7</th>\n",
       "      <td>2020</td>\n",
       "      <td>19</td>\n",
       "    </tr>\n",
       "    <tr>\n",
       "      <th>8</th>\n",
       "      <td>2021</td>\n",
       "      <td>17</td>\n",
       "    </tr>\n",
       "    <tr>\n",
       "      <th>9</th>\n",
       "      <td>2022</td>\n",
       "      <td>3</td>\n",
       "    </tr>\n",
       "  </tbody>\n",
       "</table>\n",
       "</div>"
      ],
      "text/plain": [
       "    ano  evasao\n",
       "0  2013       7\n",
       "1  2014       3\n",
       "2  2015       7\n",
       "3  2016       8\n",
       "4  2017      17\n",
       "5  2018      22\n",
       "6  2019      39\n",
       "7  2020      19\n",
       "8  2021      17\n",
       "9  2022       3"
      ]
     },
     "execution_count": 23,
     "metadata": {},
     "output_type": "execute_result"
    }
   ],
   "source": [
    "evasao_por_ano = df[df['situacaoDiscente'] == 'Evasão'].groupby('ano').size().reset_index(name='evasao')\n",
    "evasao_por_ano.head(15)"
   ]
  },
  {
   "cell_type": "code",
   "execution_count": 24,
   "metadata": {},
   "outputs": [
    {
     "data": {
      "text/html": [
       "<div>\n",
       "<style scoped>\n",
       "    .dataframe tbody tr th:only-of-type {\n",
       "        vertical-align: middle;\n",
       "    }\n",
       "\n",
       "    .dataframe tbody tr th {\n",
       "        vertical-align: top;\n",
       "    }\n",
       "\n",
       "    .dataframe thead th {\n",
       "        text-align: right;\n",
       "    }\n",
       "</style>\n",
       "<table border=\"1\" class=\"dataframe\">\n",
       "  <thead>\n",
       "    <tr style=\"text-align: right;\">\n",
       "      <th></th>\n",
       "      <th>ano</th>\n",
       "      <th>total_alunos</th>\n",
       "    </tr>\n",
       "  </thead>\n",
       "  <tbody>\n",
       "    <tr>\n",
       "      <th>0</th>\n",
       "      <td>2011</td>\n",
       "      <td>1</td>\n",
       "    </tr>\n",
       "    <tr>\n",
       "      <th>1</th>\n",
       "      <td>2012</td>\n",
       "      <td>4</td>\n",
       "    </tr>\n",
       "    <tr>\n",
       "      <th>2</th>\n",
       "      <td>2013</td>\n",
       "      <td>11</td>\n",
       "    </tr>\n",
       "    <tr>\n",
       "      <th>3</th>\n",
       "      <td>2014</td>\n",
       "      <td>13</td>\n",
       "    </tr>\n",
       "    <tr>\n",
       "      <th>4</th>\n",
       "      <td>2015</td>\n",
       "      <td>35</td>\n",
       "    </tr>\n",
       "    <tr>\n",
       "      <th>5</th>\n",
       "      <td>2016</td>\n",
       "      <td>53</td>\n",
       "    </tr>\n",
       "    <tr>\n",
       "      <th>6</th>\n",
       "      <td>2017</td>\n",
       "      <td>92</td>\n",
       "    </tr>\n",
       "    <tr>\n",
       "      <th>7</th>\n",
       "      <td>2018</td>\n",
       "      <td>96</td>\n",
       "    </tr>\n",
       "    <tr>\n",
       "      <th>8</th>\n",
       "      <td>2019</td>\n",
       "      <td>238</td>\n",
       "    </tr>\n",
       "    <tr>\n",
       "      <th>9</th>\n",
       "      <td>2020</td>\n",
       "      <td>106</td>\n",
       "    </tr>\n",
       "    <tr>\n",
       "      <th>10</th>\n",
       "      <td>2021</td>\n",
       "      <td>138</td>\n",
       "    </tr>\n",
       "    <tr>\n",
       "      <th>11</th>\n",
       "      <td>2022</td>\n",
       "      <td>122</td>\n",
       "    </tr>\n",
       "  </tbody>\n",
       "</table>\n",
       "</div>"
      ],
      "text/plain": [
       "     ano  total_alunos\n",
       "0   2011             1\n",
       "1   2012             4\n",
       "2   2013            11\n",
       "3   2014            13\n",
       "4   2015            35\n",
       "5   2016            53\n",
       "6   2017            92\n",
       "7   2018            96\n",
       "8   2019           238\n",
       "9   2020           106\n",
       "10  2021           138\n",
       "11  2022           122"
      ]
     },
     "execution_count": 24,
     "metadata": {},
     "output_type": "execute_result"
    }
   ],
   "source": [
    "total_situacao = df.groupby('ano').size().reset_index(name='total_alunos')\n",
    "total_situacao.head(15)"
   ]
  },
  {
   "cell_type": "code",
   "execution_count": 25,
   "metadata": {},
   "outputs": [
    {
     "data": {
      "text/html": [
       "<div>\n",
       "<style scoped>\n",
       "    .dataframe tbody tr th:only-of-type {\n",
       "        vertical-align: middle;\n",
       "    }\n",
       "\n",
       "    .dataframe tbody tr th {\n",
       "        vertical-align: top;\n",
       "    }\n",
       "\n",
       "    .dataframe thead th {\n",
       "        text-align: right;\n",
       "    }\n",
       "</style>\n",
       "<table border=\"1\" class=\"dataframe\">\n",
       "  <thead>\n",
       "    <tr style=\"text-align: right;\">\n",
       "      <th></th>\n",
       "      <th>ano</th>\n",
       "      <th>evasao</th>\n",
       "      <th>total_alunos</th>\n",
       "    </tr>\n",
       "  </thead>\n",
       "  <tbody>\n",
       "    <tr>\n",
       "      <th>0</th>\n",
       "      <td>2011</td>\n",
       "      <td>NaN</td>\n",
       "      <td>1</td>\n",
       "    </tr>\n",
       "    <tr>\n",
       "      <th>1</th>\n",
       "      <td>2012</td>\n",
       "      <td>NaN</td>\n",
       "      <td>4</td>\n",
       "    </tr>\n",
       "    <tr>\n",
       "      <th>2</th>\n",
       "      <td>2013</td>\n",
       "      <td>7.0</td>\n",
       "      <td>11</td>\n",
       "    </tr>\n",
       "    <tr>\n",
       "      <th>3</th>\n",
       "      <td>2014</td>\n",
       "      <td>3.0</td>\n",
       "      <td>13</td>\n",
       "    </tr>\n",
       "    <tr>\n",
       "      <th>4</th>\n",
       "      <td>2015</td>\n",
       "      <td>7.0</td>\n",
       "      <td>35</td>\n",
       "    </tr>\n",
       "  </tbody>\n",
       "</table>\n",
       "</div>"
      ],
      "text/plain": [
       "    ano  evasao  total_alunos\n",
       "0  2011     NaN             1\n",
       "1  2012     NaN             4\n",
       "2  2013     7.0            11\n",
       "3  2014     3.0            13\n",
       "4  2015     7.0            35"
      ]
     },
     "execution_count": 25,
     "metadata": {},
     "output_type": "execute_result"
    }
   ],
   "source": [
    "evasao_por_ano = pd.merge(evasao_por_ano, total_situacao, on='ano', how='outer')\n",
    "evasao_por_ano.head()"
   ]
  },
  {
   "cell_type": "code",
   "execution_count": 26,
   "metadata": {},
   "outputs": [],
   "source": [
    "evasao_por_ano['porcentagem_evasao'] = (evasao_por_ano['evasao'] / evasao_por_ano['total_alunos']) * 100"
   ]
  },
  {
   "cell_type": "code",
   "execution_count": 27,
   "metadata": {},
   "outputs": [
    {
     "data": {
      "text/html": [
       "<div>\n",
       "<style scoped>\n",
       "    .dataframe tbody tr th:only-of-type {\n",
       "        vertical-align: middle;\n",
       "    }\n",
       "\n",
       "    .dataframe tbody tr th {\n",
       "        vertical-align: top;\n",
       "    }\n",
       "\n",
       "    .dataframe thead th {\n",
       "        text-align: right;\n",
       "    }\n",
       "</style>\n",
       "<table border=\"1\" class=\"dataframe\">\n",
       "  <thead>\n",
       "    <tr style=\"text-align: right;\">\n",
       "      <th></th>\n",
       "      <th>ano</th>\n",
       "      <th>evasao</th>\n",
       "      <th>total_alunos</th>\n",
       "      <th>porcentagem_evasao</th>\n",
       "    </tr>\n",
       "  </thead>\n",
       "  <tbody>\n",
       "    <tr>\n",
       "      <th>0</th>\n",
       "      <td>2011</td>\n",
       "      <td>NaN</td>\n",
       "      <td>1</td>\n",
       "      <td>NaN</td>\n",
       "    </tr>\n",
       "    <tr>\n",
       "      <th>1</th>\n",
       "      <td>2012</td>\n",
       "      <td>NaN</td>\n",
       "      <td>4</td>\n",
       "      <td>NaN</td>\n",
       "    </tr>\n",
       "    <tr>\n",
       "      <th>2</th>\n",
       "      <td>2013</td>\n",
       "      <td>7.0</td>\n",
       "      <td>11</td>\n",
       "      <td>63.636364</td>\n",
       "    </tr>\n",
       "    <tr>\n",
       "      <th>3</th>\n",
       "      <td>2014</td>\n",
       "      <td>3.0</td>\n",
       "      <td>13</td>\n",
       "      <td>23.076923</td>\n",
       "    </tr>\n",
       "    <tr>\n",
       "      <th>4</th>\n",
       "      <td>2015</td>\n",
       "      <td>7.0</td>\n",
       "      <td>35</td>\n",
       "      <td>20.000000</td>\n",
       "    </tr>\n",
       "    <tr>\n",
       "      <th>5</th>\n",
       "      <td>2016</td>\n",
       "      <td>8.0</td>\n",
       "      <td>53</td>\n",
       "      <td>15.094340</td>\n",
       "    </tr>\n",
       "    <tr>\n",
       "      <th>6</th>\n",
       "      <td>2017</td>\n",
       "      <td>17.0</td>\n",
       "      <td>92</td>\n",
       "      <td>18.478261</td>\n",
       "    </tr>\n",
       "    <tr>\n",
       "      <th>7</th>\n",
       "      <td>2018</td>\n",
       "      <td>22.0</td>\n",
       "      <td>96</td>\n",
       "      <td>22.916667</td>\n",
       "    </tr>\n",
       "    <tr>\n",
       "      <th>8</th>\n",
       "      <td>2019</td>\n",
       "      <td>39.0</td>\n",
       "      <td>238</td>\n",
       "      <td>16.386555</td>\n",
       "    </tr>\n",
       "    <tr>\n",
       "      <th>9</th>\n",
       "      <td>2020</td>\n",
       "      <td>19.0</td>\n",
       "      <td>106</td>\n",
       "      <td>17.924528</td>\n",
       "    </tr>\n",
       "    <tr>\n",
       "      <th>10</th>\n",
       "      <td>2021</td>\n",
       "      <td>17.0</td>\n",
       "      <td>138</td>\n",
       "      <td>12.318841</td>\n",
       "    </tr>\n",
       "    <tr>\n",
       "      <th>11</th>\n",
       "      <td>2022</td>\n",
       "      <td>3.0</td>\n",
       "      <td>122</td>\n",
       "      <td>2.459016</td>\n",
       "    </tr>\n",
       "  </tbody>\n",
       "</table>\n",
       "</div>"
      ],
      "text/plain": [
       "     ano  evasao  total_alunos  porcentagem_evasao\n",
       "0   2011     NaN             1                 NaN\n",
       "1   2012     NaN             4                 NaN\n",
       "2   2013     7.0            11           63.636364\n",
       "3   2014     3.0            13           23.076923\n",
       "4   2015     7.0            35           20.000000\n",
       "5   2016     8.0            53           15.094340\n",
       "6   2017    17.0            92           18.478261\n",
       "7   2018    22.0            96           22.916667\n",
       "8   2019    39.0           238           16.386555\n",
       "9   2020    19.0           106           17.924528\n",
       "10  2021    17.0           138           12.318841\n",
       "11  2022     3.0           122            2.459016"
      ]
     },
     "execution_count": 27,
     "metadata": {},
     "output_type": "execute_result"
    }
   ],
   "source": [
    "evasao_por_ano.head(20)"
   ]
  },
  {
   "cell_type": "code",
   "execution_count": 28,
   "metadata": {},
   "outputs": [
    {
     "data": {
      "text/html": [
       "<div>\n",
       "<style scoped>\n",
       "    .dataframe tbody tr th:only-of-type {\n",
       "        vertical-align: middle;\n",
       "    }\n",
       "\n",
       "    .dataframe tbody tr th {\n",
       "        vertical-align: top;\n",
       "    }\n",
       "\n",
       "    .dataframe thead th {\n",
       "        text-align: right;\n",
       "    }\n",
       "</style>\n",
       "<table border=\"1\" class=\"dataframe\">\n",
       "  <thead>\n",
       "    <tr style=\"text-align: right;\">\n",
       "      <th></th>\n",
       "      <th>matricula</th>\n",
       "      <th>codigo</th>\n",
       "      <th>disciplina</th>\n",
       "      <th>periodo</th>\n",
       "      <th>ano</th>\n",
       "      <th>curriculo</th>\n",
       "      <th>ch</th>\n",
       "      <th>nota</th>\n",
       "      <th>frequencia</th>\n",
       "      <th>status</th>\n",
       "      <th>tipo</th>\n",
       "      <th>observacao</th>\n",
       "      <th>natureza</th>\n",
       "      <th>situacaoDiscente</th>\n",
       "      <th>nomeTuma</th>\n",
       "      <th>codigoCurriculoSie</th>\n",
       "    </tr>\n",
       "  </thead>\n",
       "  <tbody>\n",
       "    <tr>\n",
       "      <th>43</th>\n",
       "      <td>22</td>\n",
       "      <td>CI055</td>\n",
       "      <td>ALGORITMOS E ESTRUTURAS DE DADOS I</td>\n",
       "      <td>1</td>\n",
       "      <td>2013</td>\n",
       "      <td>Sim</td>\n",
       "      <td>60</td>\n",
       "      <td>75</td>\n",
       "      <td>100</td>\n",
       "      <td>Aprovado</td>\n",
       "      <td>TURMA</td>\n",
       "      <td>NaN</td>\n",
       "      <td>Obrigatória</td>\n",
       "      <td>Registro ativo</td>\n",
       "      <td>A</td>\n",
       "      <td>21A</td>\n",
       "    </tr>\n",
       "    <tr>\n",
       "      <th>153</th>\n",
       "      <td>87</td>\n",
       "      <td>CI055</td>\n",
       "      <td>ALGORITMOS E ESTRUTURAS DE DADOS I</td>\n",
       "      <td>1</td>\n",
       "      <td>2013</td>\n",
       "      <td>Sim</td>\n",
       "      <td>60</td>\n",
       "      <td>54</td>\n",
       "      <td>0</td>\n",
       "      <td>Aprovado</td>\n",
       "      <td>EQUIVALENCIA</td>\n",
       "      <td>NaN</td>\n",
       "      <td>Obrigatória</td>\n",
       "      <td>Registro ativo</td>\n",
       "      <td>NaN</td>\n",
       "      <td>21A</td>\n",
       "    </tr>\n",
       "    <tr>\n",
       "      <th>304</th>\n",
       "      <td>189</td>\n",
       "      <td>CI055</td>\n",
       "      <td>ALGORITMOS E ESTRUTURAS DE DADOS I</td>\n",
       "      <td>1</td>\n",
       "      <td>2013</td>\n",
       "      <td>Sim</td>\n",
       "      <td>60</td>\n",
       "      <td>8</td>\n",
       "      <td>100</td>\n",
       "      <td>R-nota</td>\n",
       "      <td>TURMA</td>\n",
       "      <td>NaN</td>\n",
       "      <td>Obrigatória</td>\n",
       "      <td>Evasão</td>\n",
       "      <td>NaN</td>\n",
       "      <td>21A</td>\n",
       "    </tr>\n",
       "    <tr>\n",
       "      <th>305</th>\n",
       "      <td>189</td>\n",
       "      <td>CI055</td>\n",
       "      <td>ALGORITMOS E ESTRUTURAS DE DADOS I</td>\n",
       "      <td>2</td>\n",
       "      <td>2013</td>\n",
       "      <td>Sim</td>\n",
       "      <td>60</td>\n",
       "      <td>94</td>\n",
       "      <td>93</td>\n",
       "      <td>Aprovado</td>\n",
       "      <td>TURMA</td>\n",
       "      <td>NaN</td>\n",
       "      <td>Obrigatória</td>\n",
       "      <td>Evasão</td>\n",
       "      <td>NaN</td>\n",
       "      <td>21A</td>\n",
       "    </tr>\n",
       "    <tr>\n",
       "      <th>390</th>\n",
       "      <td>246</td>\n",
       "      <td>CI055</td>\n",
       "      <td>ALGORITMOS E ESTRUTURAS DE DADOS I</td>\n",
       "      <td>1</td>\n",
       "      <td>2013</td>\n",
       "      <td>Sim</td>\n",
       "      <td>60</td>\n",
       "      <td>89</td>\n",
       "      <td>100</td>\n",
       "      <td>Aprovado</td>\n",
       "      <td>TURMA</td>\n",
       "      <td>NaN</td>\n",
       "      <td>Obrigatória</td>\n",
       "      <td>Conclusão formatura</td>\n",
       "      <td>A</td>\n",
       "      <td>21A</td>\n",
       "    </tr>\n",
       "    <tr>\n",
       "      <th>404</th>\n",
       "      <td>255</td>\n",
       "      <td>CI055</td>\n",
       "      <td>ALGORITMOS E ESTRUTURAS DE DADOS I</td>\n",
       "      <td>1</td>\n",
       "      <td>2013</td>\n",
       "      <td>Sim</td>\n",
       "      <td>60</td>\n",
       "      <td>35</td>\n",
       "      <td>100</td>\n",
       "      <td>R-nota</td>\n",
       "      <td>TURMA</td>\n",
       "      <td>NaN</td>\n",
       "      <td>Obrigatória</td>\n",
       "      <td>Evasão</td>\n",
       "      <td>B</td>\n",
       "      <td>21A</td>\n",
       "    </tr>\n",
       "    <tr>\n",
       "      <th>405</th>\n",
       "      <td>255</td>\n",
       "      <td>CI055</td>\n",
       "      <td>ALGORITMOS E ESTRUTURAS DE DADOS I</td>\n",
       "      <td>2</td>\n",
       "      <td>2013</td>\n",
       "      <td>Sim</td>\n",
       "      <td>60</td>\n",
       "      <td>60</td>\n",
       "      <td>90</td>\n",
       "      <td>Aprovado</td>\n",
       "      <td>TURMA</td>\n",
       "      <td>NaN</td>\n",
       "      <td>Obrigatória</td>\n",
       "      <td>Evasão</td>\n",
       "      <td>B</td>\n",
       "      <td>21A</td>\n",
       "    </tr>\n",
       "    <tr>\n",
       "      <th>428</th>\n",
       "      <td>273</td>\n",
       "      <td>CI055</td>\n",
       "      <td>ALGORITMOS E ESTRUTURAS DE DADOS I</td>\n",
       "      <td>1</td>\n",
       "      <td>2013</td>\n",
       "      <td>Sim</td>\n",
       "      <td>60</td>\n",
       "      <td>53</td>\n",
       "      <td>96</td>\n",
       "      <td>Aprovado</td>\n",
       "      <td>TURMA</td>\n",
       "      <td>NaN</td>\n",
       "      <td>Obrigatória</td>\n",
       "      <td>Evasão</td>\n",
       "      <td>NaN</td>\n",
       "      <td>21A</td>\n",
       "    </tr>\n",
       "    <tr>\n",
       "      <th>526</th>\n",
       "      <td>335</td>\n",
       "      <td>CI055</td>\n",
       "      <td>ALGORITMOS E ESTRUTURAS DE DADOS I</td>\n",
       "      <td>1</td>\n",
       "      <td>2013</td>\n",
       "      <td>Sim</td>\n",
       "      <td>60</td>\n",
       "      <td>47</td>\n",
       "      <td>100</td>\n",
       "      <td>R-nota</td>\n",
       "      <td>TURMA</td>\n",
       "      <td>NaN</td>\n",
       "      <td>Obrigatória</td>\n",
       "      <td>Evasão</td>\n",
       "      <td>NaN</td>\n",
       "      <td>21A</td>\n",
       "    </tr>\n",
       "    <tr>\n",
       "      <th>527</th>\n",
       "      <td>335</td>\n",
       "      <td>CI055</td>\n",
       "      <td>ALGORITMOS E ESTRUTURAS DE DADOS I</td>\n",
       "      <td>2</td>\n",
       "      <td>2013</td>\n",
       "      <td>Sim</td>\n",
       "      <td>60</td>\n",
       "      <td>79</td>\n",
       "      <td>90</td>\n",
       "      <td>Aprovado</td>\n",
       "      <td>TURMA</td>\n",
       "      <td>NaN</td>\n",
       "      <td>Obrigatória</td>\n",
       "      <td>Evasão</td>\n",
       "      <td>NaN</td>\n",
       "      <td>21A</td>\n",
       "    </tr>\n",
       "    <tr>\n",
       "      <th>580</th>\n",
       "      <td>372</td>\n",
       "      <td>CI055</td>\n",
       "      <td>ALGORITMOS E ESTRUTURAS DE DADOS I</td>\n",
       "      <td>1</td>\n",
       "      <td>2013</td>\n",
       "      <td>Sim</td>\n",
       "      <td>60</td>\n",
       "      <td>59</td>\n",
       "      <td>93</td>\n",
       "      <td>Aprovado</td>\n",
       "      <td>TURMA</td>\n",
       "      <td>B</td>\n",
       "      <td>Obrigatória</td>\n",
       "      <td>Conclusão formatura</td>\n",
       "      <td>NaN</td>\n",
       "      <td>21A</td>\n",
       "    </tr>\n",
       "  </tbody>\n",
       "</table>\n",
       "</div>"
      ],
      "text/plain": [
       "     matricula codigo                          disciplina periodo   ano  \\\n",
       "43          22  CI055  ALGORITMOS E ESTRUTURAS DE DADOS I       1  2013   \n",
       "153         87  CI055  ALGORITMOS E ESTRUTURAS DE DADOS I       1  2013   \n",
       "304        189  CI055  ALGORITMOS E ESTRUTURAS DE DADOS I       1  2013   \n",
       "305        189  CI055  ALGORITMOS E ESTRUTURAS DE DADOS I       2  2013   \n",
       "390        246  CI055  ALGORITMOS E ESTRUTURAS DE DADOS I       1  2013   \n",
       "404        255  CI055  ALGORITMOS E ESTRUTURAS DE DADOS I       1  2013   \n",
       "405        255  CI055  ALGORITMOS E ESTRUTURAS DE DADOS I       2  2013   \n",
       "428        273  CI055  ALGORITMOS E ESTRUTURAS DE DADOS I       1  2013   \n",
       "526        335  CI055  ALGORITMOS E ESTRUTURAS DE DADOS I       1  2013   \n",
       "527        335  CI055  ALGORITMOS E ESTRUTURAS DE DADOS I       2  2013   \n",
       "580        372  CI055  ALGORITMOS E ESTRUTURAS DE DADOS I       1  2013   \n",
       "\n",
       "    curriculo  ch  nota  frequencia    status          tipo observacao  \\\n",
       "43        Sim  60    75         100  Aprovado         TURMA        NaN   \n",
       "153       Sim  60    54           0  Aprovado  EQUIVALENCIA        NaN   \n",
       "304       Sim  60     8         100    R-nota         TURMA        NaN   \n",
       "305       Sim  60    94          93  Aprovado         TURMA        NaN   \n",
       "390       Sim  60    89         100  Aprovado         TURMA        NaN   \n",
       "404       Sim  60    35         100    R-nota         TURMA        NaN   \n",
       "405       Sim  60    60          90  Aprovado         TURMA        NaN   \n",
       "428       Sim  60    53          96  Aprovado         TURMA        NaN   \n",
       "526       Sim  60    47         100    R-nota         TURMA        NaN   \n",
       "527       Sim  60    79          90  Aprovado         TURMA        NaN   \n",
       "580       Sim  60    59          93  Aprovado         TURMA          B   \n",
       "\n",
       "        natureza     situacaoDiscente nomeTuma codigoCurriculoSie  \n",
       "43   Obrigatória       Registro ativo        A                21A  \n",
       "153  Obrigatória       Registro ativo      NaN                21A  \n",
       "304  Obrigatória               Evasão      NaN                21A  \n",
       "305  Obrigatória               Evasão      NaN                21A  \n",
       "390  Obrigatória  Conclusão formatura        A                21A  \n",
       "404  Obrigatória               Evasão        B                21A  \n",
       "405  Obrigatória               Evasão        B                21A  \n",
       "428  Obrigatória               Evasão      NaN                21A  \n",
       "526  Obrigatória               Evasão      NaN                21A  \n",
       "527  Obrigatória               Evasão      NaN                21A  \n",
       "580  Obrigatória  Conclusão formatura      NaN                21A  "
      ]
     },
     "execution_count": 28,
     "metadata": {},
     "output_type": "execute_result"
    }
   ],
   "source": [
    "df_2013 = df[df['ano']== 2013]\n",
    "df_2013.head(11)"
   ]
  },
  {
   "cell_type": "code",
   "execution_count": 29,
   "metadata": {},
   "outputs": [],
   "source": [
    "#5. Como os anos de pandemia impactaram no rendimento dos estudantes em relação aos anos anteriores, considerando o rendimento dos aprovados, \n",
    "# a taxa de cancelamento e as reprovações? \n",
    "# Considere como anos de pandemia os anos de 2020 e 2021."
   ]
  },
  {
   "cell_type": "code",
   "execution_count": 30,
   "metadata": {},
   "outputs": [],
   "source": [
    "df_pandemia = df[(df['ano'] == 2020) | (df['ano'] == 2021)]"
   ]
  },
  {
   "cell_type": "code",
   "execution_count": 31,
   "metadata": {},
   "outputs": [
    {
     "name": "stderr",
     "output_type": "stream",
     "text": [
      "C:\\Users\\Mikael\\AppData\\Local\\Temp\\ipykernel_39060\\1053261395.py:1: UserWarning: Boolean Series key will be reindexed to match DataFrame index.\n",
      "  df_pandemia_aprovados = df_pandemia[(df_pandemia['status']== 'Aprovado') & (df['tipo']!= 'EQUIVALENCIA')]\n"
     ]
    }
   ],
   "source": [
    "df_pandemia_aprovados = df_pandemia[(df_pandemia['status']== 'Aprovado') & (df['tipo']!= 'EQUIVALENCIA')]"
   ]
  },
  {
   "cell_type": "code",
   "execution_count": 32,
   "metadata": {},
   "outputs": [
    {
     "data": {
      "text/plain": [
       "84.15625"
      ]
     },
     "execution_count": 32,
     "metadata": {},
     "output_type": "execute_result"
    }
   ],
   "source": [
    "df_pandemia_aprovados['nota'].mean()"
   ]
  },
  {
   "cell_type": "code",
   "execution_count": 33,
   "metadata": {},
   "outputs": [
    {
     "data": {
      "text/plain": [
       "status\n",
       "Aprovado       0.565574\n",
       "R-nota         0.192623\n",
       "Cancelado      0.135246\n",
       "R-freq         0.081967\n",
       "Matriculado    0.024590\n",
       "Name: proportion, dtype: float64"
      ]
     },
     "execution_count": 33,
     "metadata": {},
     "output_type": "execute_result"
    }
   ],
   "source": [
    "df_pandemia.value_counts('status', normalize=True)"
   ]
  },
  {
   "cell_type": "code",
   "execution_count": 34,
   "metadata": {},
   "outputs": [],
   "source": [
    "df_antes_pandemia = df[df['ano'] < 2020]\n",
    "df_antes_aprovados = df_antes_pandemia[df_antes_pandemia['status']== 'Aprovado']"
   ]
  },
  {
   "cell_type": "code",
   "execution_count": 35,
   "metadata": {},
   "outputs": [
    {
     "data": {
      "text/plain": [
       "52.09069767441861"
      ]
     },
     "execution_count": 35,
     "metadata": {},
     "output_type": "execute_result"
    }
   ],
   "source": [
    "df_antes_aprovados['nota'].mean()"
   ]
  },
  {
   "cell_type": "code",
   "execution_count": 36,
   "metadata": {},
   "outputs": [
    {
     "data": {
      "text/plain": [
       "status\n",
       "Aprovado     0.791897\n",
       "R-nota       0.162063\n",
       "R-freq       0.040516\n",
       "Cancelado    0.003683\n",
       "Reprovado    0.001842\n",
       "Name: proportion, dtype: float64"
      ]
     },
     "execution_count": 36,
     "metadata": {},
     "output_type": "execute_result"
    }
   ],
   "source": [
    "df_antes_pandemia.value_counts('status', normalize=True)"
   ]
  },
  {
   "cell_type": "code",
   "execution_count": 37,
   "metadata": {},
   "outputs": [],
   "source": [
    "# 6- Compare a volta às aulas híbrida (2022 período 1) com os anos de pandemia e os anos anteriores."
   ]
  },
  {
   "cell_type": "code",
   "execution_count": 38,
   "metadata": {},
   "outputs": [
    {
     "data": {
      "text/html": [
       "<div>\n",
       "<style scoped>\n",
       "    .dataframe tbody tr th:only-of-type {\n",
       "        vertical-align: middle;\n",
       "    }\n",
       "\n",
       "    .dataframe tbody tr th {\n",
       "        vertical-align: top;\n",
       "    }\n",
       "\n",
       "    .dataframe thead th {\n",
       "        text-align: right;\n",
       "    }\n",
       "</style>\n",
       "<table border=\"1\" class=\"dataframe\">\n",
       "  <thead>\n",
       "    <tr style=\"text-align: right;\">\n",
       "      <th></th>\n",
       "      <th>matricula</th>\n",
       "      <th>codigo</th>\n",
       "      <th>disciplina</th>\n",
       "      <th>periodo</th>\n",
       "      <th>ano</th>\n",
       "      <th>curriculo</th>\n",
       "      <th>ch</th>\n",
       "      <th>nota</th>\n",
       "      <th>frequencia</th>\n",
       "      <th>status</th>\n",
       "      <th>tipo</th>\n",
       "      <th>observacao</th>\n",
       "      <th>natureza</th>\n",
       "      <th>situacaoDiscente</th>\n",
       "      <th>nomeTuma</th>\n",
       "      <th>codigoCurriculoSie</th>\n",
       "    </tr>\n",
       "  </thead>\n",
       "  <tbody>\n",
       "    <tr>\n",
       "      <th>7</th>\n",
       "      <td>1</td>\n",
       "      <td>CI1055</td>\n",
       "      <td>ALGORITMOS E ESTRUTURAS DE DADOS 1</td>\n",
       "      <td>1</td>\n",
       "      <td>2022</td>\n",
       "      <td>Sim</td>\n",
       "      <td>60</td>\n",
       "      <td>0</td>\n",
       "      <td>25</td>\n",
       "      <td>R-freq</td>\n",
       "      <td>TURMA</td>\n",
       "      <td>NaN</td>\n",
       "      <td>Obrigatória</td>\n",
       "      <td>Registro ativo</td>\n",
       "      <td>BCC2</td>\n",
       "      <td>21A</td>\n",
       "    </tr>\n",
       "    <tr>\n",
       "      <th>10</th>\n",
       "      <td>3</td>\n",
       "      <td>CI1055</td>\n",
       "      <td>ALGORITMOS E ESTRUTURAS DE DADOS 1</td>\n",
       "      <td>1</td>\n",
       "      <td>2022</td>\n",
       "      <td>Sim</td>\n",
       "      <td>60</td>\n",
       "      <td>72</td>\n",
       "      <td>100</td>\n",
       "      <td>Aprovado</td>\n",
       "      <td>TURMA</td>\n",
       "      <td>NaN</td>\n",
       "      <td>Obrigatória</td>\n",
       "      <td>Registro ativo</td>\n",
       "      <td>BCC1</td>\n",
       "      <td>21A</td>\n",
       "    </tr>\n",
       "    <tr>\n",
       "      <th>11</th>\n",
       "      <td>4</td>\n",
       "      <td>CI1055</td>\n",
       "      <td>ALGORITMOS E ESTRUTURAS DE DADOS 1</td>\n",
       "      <td>1</td>\n",
       "      <td>2022</td>\n",
       "      <td>Sim</td>\n",
       "      <td>60</td>\n",
       "      <td>0</td>\n",
       "      <td>0</td>\n",
       "      <td>Cancelado</td>\n",
       "      <td>TURMA</td>\n",
       "      <td>NaN</td>\n",
       "      <td>Obrigatória</td>\n",
       "      <td>Registro ativo</td>\n",
       "      <td>BCC2</td>\n",
       "      <td>21A</td>\n",
       "    </tr>\n",
       "    <tr>\n",
       "      <th>27</th>\n",
       "      <td>11</td>\n",
       "      <td>CI1055</td>\n",
       "      <td>ALGORITMOS E ESTRUTURAS DE DADOS 1</td>\n",
       "      <td>1</td>\n",
       "      <td>2022</td>\n",
       "      <td>Sim</td>\n",
       "      <td>60</td>\n",
       "      <td>1</td>\n",
       "      <td>90</td>\n",
       "      <td>R-nota</td>\n",
       "      <td>TURMA</td>\n",
       "      <td>NaN</td>\n",
       "      <td>Obrigatória</td>\n",
       "      <td>Trancamento</td>\n",
       "      <td>BCC5</td>\n",
       "      <td>21A</td>\n",
       "    </tr>\n",
       "    <tr>\n",
       "      <th>36</th>\n",
       "      <td>18</td>\n",
       "      <td>CI1055</td>\n",
       "      <td>ALGORITMOS E ESTRUTURAS DE DADOS 1</td>\n",
       "      <td>1</td>\n",
       "      <td>2022</td>\n",
       "      <td>Sim</td>\n",
       "      <td>60</td>\n",
       "      <td>0</td>\n",
       "      <td>100</td>\n",
       "      <td>R-nota</td>\n",
       "      <td>TURMA</td>\n",
       "      <td>NaN</td>\n",
       "      <td>Obrigatória</td>\n",
       "      <td>Trancamento</td>\n",
       "      <td>BCC3</td>\n",
       "      <td>21A</td>\n",
       "    </tr>\n",
       "  </tbody>\n",
       "</table>\n",
       "</div>"
      ],
      "text/plain": [
       "    matricula  codigo                          disciplina periodo   ano  \\\n",
       "7           1  CI1055  ALGORITMOS E ESTRUTURAS DE DADOS 1       1  2022   \n",
       "10          3  CI1055  ALGORITMOS E ESTRUTURAS DE DADOS 1       1  2022   \n",
       "11          4  CI1055  ALGORITMOS E ESTRUTURAS DE DADOS 1       1  2022   \n",
       "27         11  CI1055  ALGORITMOS E ESTRUTURAS DE DADOS 1       1  2022   \n",
       "36         18  CI1055  ALGORITMOS E ESTRUTURAS DE DADOS 1       1  2022   \n",
       "\n",
       "   curriculo  ch  nota  frequencia     status   tipo observacao     natureza  \\\n",
       "7        Sim  60     0          25     R-freq  TURMA        NaN  Obrigatória   \n",
       "10       Sim  60    72         100   Aprovado  TURMA        NaN  Obrigatória   \n",
       "11       Sim  60     0           0  Cancelado  TURMA        NaN  Obrigatória   \n",
       "27       Sim  60     1          90     R-nota  TURMA        NaN  Obrigatória   \n",
       "36       Sim  60     0         100     R-nota  TURMA        NaN  Obrigatória   \n",
       "\n",
       "   situacaoDiscente nomeTuma codigoCurriculoSie  \n",
       "7    Registro ativo     BCC2                21A  \n",
       "10   Registro ativo     BCC1                21A  \n",
       "11   Registro ativo     BCC2                21A  \n",
       "27      Trancamento     BCC5                21A  \n",
       "36      Trancamento     BCC3                21A  "
      ]
     },
     "execution_count": 38,
     "metadata": {},
     "output_type": "execute_result"
    }
   ],
   "source": [
    "df1_2022 = df[(df['ano'] == 2022) & (df['periodo'] == '1')]\n",
    "df1_2022_aprovados = df[df['status'] == 'Aprovado']\n",
    "df1_2022.head()"
   ]
  },
  {
   "cell_type": "code",
   "execution_count": 39,
   "metadata": {},
   "outputs": [
    {
     "data": {
      "text/plain": [
       "60.017628205128204"
      ]
     },
     "execution_count": 39,
     "metadata": {},
     "output_type": "execute_result"
    }
   ],
   "source": [
    "df1_2022_aprovados['nota'].mean()"
   ]
  },
  {
   "cell_type": "code",
   "execution_count": 40,
   "metadata": {},
   "outputs": [
    {
     "data": {
      "text/plain": [
       "status\n",
       "Aprovado       0.589474\n",
       "R-nota         0.284211\n",
       "R-freq         0.073684\n",
       "Matriculado    0.031579\n",
       "Cancelado      0.021053\n",
       "Name: proportion, dtype: float64"
      ]
     },
     "execution_count": 40,
     "metadata": {},
     "output_type": "execute_result"
    }
   ],
   "source": [
    "df1_2022.value_counts('status', normalize=True)"
   ]
  },
  {
   "cell_type": "code",
   "execution_count": 41,
   "metadata": {},
   "outputs": [],
   "source": [
    "#7. Compare a volta às aulas presencial (2022 período 2) com a volta híbrida do item anterior."
   ]
  },
  {
   "cell_type": "code",
   "execution_count": 42,
   "metadata": {},
   "outputs": [],
   "source": [
    "df2_2022 = df[(df['ano'] == 2022) & (df['periodo'] == '2')]\n",
    "df2_2022_aprovados = df[df['status'] == 'Aprovado']"
   ]
  },
  {
   "cell_type": "code",
   "execution_count": 43,
   "metadata": {},
   "outputs": [
    {
     "data": {
      "text/plain": [
       "60.017628205128204"
      ]
     },
     "execution_count": 43,
     "metadata": {},
     "output_type": "execute_result"
    }
   ],
   "source": [
    "df2_2022_aprovados['nota'].mean()"
   ]
  },
  {
   "cell_type": "code",
   "execution_count": 44,
   "metadata": {},
   "outputs": [
    {
     "data": {
      "text/plain": [
       "status\n",
       "Matriculado    1.0\n",
       "Name: proportion, dtype: float64"
      ]
     },
     "execution_count": 44,
     "metadata": {},
     "output_type": "execute_result"
    }
   ],
   "source": [
    "df2_2022.value_counts('status', normalize=True)"
   ]
  },
  {
   "cell_type": "code",
   "execution_count": 66,
   "metadata": {},
   "outputs": [
    {
     "data": {
      "application/vnd.plotly.v1+json": {
       "config": {
        "plotlyServerURL": "https://plot.ly"
       },
       "data": [
        {
         "hovertemplate": "ano=%{x}<br>nota=%{y}<extra></extra>",
         "legendgroup": "",
         "line": {
          "color": "#636efa",
          "dash": "solid"
         },
         "marker": {
          "symbol": "circle"
         },
         "mode": "lines+markers",
         "name": "",
         "orientation": "v",
         "showlegend": false,
         "type": "scatter",
         "x": [
          2011,
          2013,
          2014,
          2015,
          2016,
          2017,
          2018,
          2019,
          2020,
          2021,
          2022
         ],
         "xaxis": "x",
         "y": [
          50,
          72.71428571428571,
          70.66666666666667,
          68.57692307692308,
          72.09302325581395,
          78.10606060606061,
          76.40625,
          74.74117647058823,
          84.46666666666667,
          83.88235294117646,
          77.81818181818181
         ],
         "yaxis": "y"
        }
       ],
       "layout": {
        "annotations": [
         {
          "showarrow": false,
          "text": "Anos da pandemia",
          "x": 2020,
          "xanchor": "right",
          "xref": "x",
          "y": 0,
          "yanchor": "bottom",
          "yref": "y domain"
         }
        ],
        "legend": {
         "tracegroupgap": 0
        },
        "margin": {
         "t": 60
        },
        "shapes": [
         {
          "line": {
           "dash": "dot",
           "width": 2
          },
          "type": "line",
          "x0": 2020,
          "x1": 2020,
          "xref": "x",
          "y0": 0,
          "y1": 1,
          "yref": "y domain"
         },
         {
          "line": {
           "dash": "dot",
           "width": 2
          },
          "type": "line",
          "x0": 2021,
          "x1": 2021,
          "xref": "x",
          "y0": 0,
          "y1": 1,
          "yref": "y domain"
         }
        ],
        "template": {
         "data": {
          "bar": [
           {
            "error_x": {
             "color": "#2a3f5f"
            },
            "error_y": {
             "color": "#2a3f5f"
            },
            "marker": {
             "line": {
              "color": "#E5ECF6",
              "width": 0.5
             },
             "pattern": {
              "fillmode": "overlay",
              "size": 10,
              "solidity": 0.2
             }
            },
            "type": "bar"
           }
          ],
          "barpolar": [
           {
            "marker": {
             "line": {
              "color": "#E5ECF6",
              "width": 0.5
             },
             "pattern": {
              "fillmode": "overlay",
              "size": 10,
              "solidity": 0.2
             }
            },
            "type": "barpolar"
           }
          ],
          "carpet": [
           {
            "aaxis": {
             "endlinecolor": "#2a3f5f",
             "gridcolor": "white",
             "linecolor": "white",
             "minorgridcolor": "white",
             "startlinecolor": "#2a3f5f"
            },
            "baxis": {
             "endlinecolor": "#2a3f5f",
             "gridcolor": "white",
             "linecolor": "white",
             "minorgridcolor": "white",
             "startlinecolor": "#2a3f5f"
            },
            "type": "carpet"
           }
          ],
          "choropleth": [
           {
            "colorbar": {
             "outlinewidth": 0,
             "ticks": ""
            },
            "type": "choropleth"
           }
          ],
          "contour": [
           {
            "colorbar": {
             "outlinewidth": 0,
             "ticks": ""
            },
            "colorscale": [
             [
              0,
              "#0d0887"
             ],
             [
              0.1111111111111111,
              "#46039f"
             ],
             [
              0.2222222222222222,
              "#7201a8"
             ],
             [
              0.3333333333333333,
              "#9c179e"
             ],
             [
              0.4444444444444444,
              "#bd3786"
             ],
             [
              0.5555555555555556,
              "#d8576b"
             ],
             [
              0.6666666666666666,
              "#ed7953"
             ],
             [
              0.7777777777777778,
              "#fb9f3a"
             ],
             [
              0.8888888888888888,
              "#fdca26"
             ],
             [
              1,
              "#f0f921"
             ]
            ],
            "type": "contour"
           }
          ],
          "contourcarpet": [
           {
            "colorbar": {
             "outlinewidth": 0,
             "ticks": ""
            },
            "type": "contourcarpet"
           }
          ],
          "heatmap": [
           {
            "colorbar": {
             "outlinewidth": 0,
             "ticks": ""
            },
            "colorscale": [
             [
              0,
              "#0d0887"
             ],
             [
              0.1111111111111111,
              "#46039f"
             ],
             [
              0.2222222222222222,
              "#7201a8"
             ],
             [
              0.3333333333333333,
              "#9c179e"
             ],
             [
              0.4444444444444444,
              "#bd3786"
             ],
             [
              0.5555555555555556,
              "#d8576b"
             ],
             [
              0.6666666666666666,
              "#ed7953"
             ],
             [
              0.7777777777777778,
              "#fb9f3a"
             ],
             [
              0.8888888888888888,
              "#fdca26"
             ],
             [
              1,
              "#f0f921"
             ]
            ],
            "type": "heatmap"
           }
          ],
          "heatmapgl": [
           {
            "colorbar": {
             "outlinewidth": 0,
             "ticks": ""
            },
            "colorscale": [
             [
              0,
              "#0d0887"
             ],
             [
              0.1111111111111111,
              "#46039f"
             ],
             [
              0.2222222222222222,
              "#7201a8"
             ],
             [
              0.3333333333333333,
              "#9c179e"
             ],
             [
              0.4444444444444444,
              "#bd3786"
             ],
             [
              0.5555555555555556,
              "#d8576b"
             ],
             [
              0.6666666666666666,
              "#ed7953"
             ],
             [
              0.7777777777777778,
              "#fb9f3a"
             ],
             [
              0.8888888888888888,
              "#fdca26"
             ],
             [
              1,
              "#f0f921"
             ]
            ],
            "type": "heatmapgl"
           }
          ],
          "histogram": [
           {
            "marker": {
             "pattern": {
              "fillmode": "overlay",
              "size": 10,
              "solidity": 0.2
             }
            },
            "type": "histogram"
           }
          ],
          "histogram2d": [
           {
            "colorbar": {
             "outlinewidth": 0,
             "ticks": ""
            },
            "colorscale": [
             [
              0,
              "#0d0887"
             ],
             [
              0.1111111111111111,
              "#46039f"
             ],
             [
              0.2222222222222222,
              "#7201a8"
             ],
             [
              0.3333333333333333,
              "#9c179e"
             ],
             [
              0.4444444444444444,
              "#bd3786"
             ],
             [
              0.5555555555555556,
              "#d8576b"
             ],
             [
              0.6666666666666666,
              "#ed7953"
             ],
             [
              0.7777777777777778,
              "#fb9f3a"
             ],
             [
              0.8888888888888888,
              "#fdca26"
             ],
             [
              1,
              "#f0f921"
             ]
            ],
            "type": "histogram2d"
           }
          ],
          "histogram2dcontour": [
           {
            "colorbar": {
             "outlinewidth": 0,
             "ticks": ""
            },
            "colorscale": [
             [
              0,
              "#0d0887"
             ],
             [
              0.1111111111111111,
              "#46039f"
             ],
             [
              0.2222222222222222,
              "#7201a8"
             ],
             [
              0.3333333333333333,
              "#9c179e"
             ],
             [
              0.4444444444444444,
              "#bd3786"
             ],
             [
              0.5555555555555556,
              "#d8576b"
             ],
             [
              0.6666666666666666,
              "#ed7953"
             ],
             [
              0.7777777777777778,
              "#fb9f3a"
             ],
             [
              0.8888888888888888,
              "#fdca26"
             ],
             [
              1,
              "#f0f921"
             ]
            ],
            "type": "histogram2dcontour"
           }
          ],
          "mesh3d": [
           {
            "colorbar": {
             "outlinewidth": 0,
             "ticks": ""
            },
            "type": "mesh3d"
           }
          ],
          "parcoords": [
           {
            "line": {
             "colorbar": {
              "outlinewidth": 0,
              "ticks": ""
             }
            },
            "type": "parcoords"
           }
          ],
          "pie": [
           {
            "automargin": true,
            "type": "pie"
           }
          ],
          "scatter": [
           {
            "fillpattern": {
             "fillmode": "overlay",
             "size": 10,
             "solidity": 0.2
            },
            "type": "scatter"
           }
          ],
          "scatter3d": [
           {
            "line": {
             "colorbar": {
              "outlinewidth": 0,
              "ticks": ""
             }
            },
            "marker": {
             "colorbar": {
              "outlinewidth": 0,
              "ticks": ""
             }
            },
            "type": "scatter3d"
           }
          ],
          "scattercarpet": [
           {
            "marker": {
             "colorbar": {
              "outlinewidth": 0,
              "ticks": ""
             }
            },
            "type": "scattercarpet"
           }
          ],
          "scattergeo": [
           {
            "marker": {
             "colorbar": {
              "outlinewidth": 0,
              "ticks": ""
             }
            },
            "type": "scattergeo"
           }
          ],
          "scattergl": [
           {
            "marker": {
             "colorbar": {
              "outlinewidth": 0,
              "ticks": ""
             }
            },
            "type": "scattergl"
           }
          ],
          "scattermapbox": [
           {
            "marker": {
             "colorbar": {
              "outlinewidth": 0,
              "ticks": ""
             }
            },
            "type": "scattermapbox"
           }
          ],
          "scatterpolar": [
           {
            "marker": {
             "colorbar": {
              "outlinewidth": 0,
              "ticks": ""
             }
            },
            "type": "scatterpolar"
           }
          ],
          "scatterpolargl": [
           {
            "marker": {
             "colorbar": {
              "outlinewidth": 0,
              "ticks": ""
             }
            },
            "type": "scatterpolargl"
           }
          ],
          "scatterternary": [
           {
            "marker": {
             "colorbar": {
              "outlinewidth": 0,
              "ticks": ""
             }
            },
            "type": "scatterternary"
           }
          ],
          "surface": [
           {
            "colorbar": {
             "outlinewidth": 0,
             "ticks": ""
            },
            "colorscale": [
             [
              0,
              "#0d0887"
             ],
             [
              0.1111111111111111,
              "#46039f"
             ],
             [
              0.2222222222222222,
              "#7201a8"
             ],
             [
              0.3333333333333333,
              "#9c179e"
             ],
             [
              0.4444444444444444,
              "#bd3786"
             ],
             [
              0.5555555555555556,
              "#d8576b"
             ],
             [
              0.6666666666666666,
              "#ed7953"
             ],
             [
              0.7777777777777778,
              "#fb9f3a"
             ],
             [
              0.8888888888888888,
              "#fdca26"
             ],
             [
              1,
              "#f0f921"
             ]
            ],
            "type": "surface"
           }
          ],
          "table": [
           {
            "cells": {
             "fill": {
              "color": "#EBF0F8"
             },
             "line": {
              "color": "white"
             }
            },
            "header": {
             "fill": {
              "color": "#C8D4E3"
             },
             "line": {
              "color": "white"
             }
            },
            "type": "table"
           }
          ]
         },
         "layout": {
          "annotationdefaults": {
           "arrowcolor": "#2a3f5f",
           "arrowhead": 0,
           "arrowwidth": 1
          },
          "autotypenumbers": "strict",
          "coloraxis": {
           "colorbar": {
            "outlinewidth": 0,
            "ticks": ""
           }
          },
          "colorscale": {
           "diverging": [
            [
             0,
             "#8e0152"
            ],
            [
             0.1,
             "#c51b7d"
            ],
            [
             0.2,
             "#de77ae"
            ],
            [
             0.3,
             "#f1b6da"
            ],
            [
             0.4,
             "#fde0ef"
            ],
            [
             0.5,
             "#f7f7f7"
            ],
            [
             0.6,
             "#e6f5d0"
            ],
            [
             0.7,
             "#b8e186"
            ],
            [
             0.8,
             "#7fbc41"
            ],
            [
             0.9,
             "#4d9221"
            ],
            [
             1,
             "#276419"
            ]
           ],
           "sequential": [
            [
             0,
             "#0d0887"
            ],
            [
             0.1111111111111111,
             "#46039f"
            ],
            [
             0.2222222222222222,
             "#7201a8"
            ],
            [
             0.3333333333333333,
             "#9c179e"
            ],
            [
             0.4444444444444444,
             "#bd3786"
            ],
            [
             0.5555555555555556,
             "#d8576b"
            ],
            [
             0.6666666666666666,
             "#ed7953"
            ],
            [
             0.7777777777777778,
             "#fb9f3a"
            ],
            [
             0.8888888888888888,
             "#fdca26"
            ],
            [
             1,
             "#f0f921"
            ]
           ],
           "sequentialminus": [
            [
             0,
             "#0d0887"
            ],
            [
             0.1111111111111111,
             "#46039f"
            ],
            [
             0.2222222222222222,
             "#7201a8"
            ],
            [
             0.3333333333333333,
             "#9c179e"
            ],
            [
             0.4444444444444444,
             "#bd3786"
            ],
            [
             0.5555555555555556,
             "#d8576b"
            ],
            [
             0.6666666666666666,
             "#ed7953"
            ],
            [
             0.7777777777777778,
             "#fb9f3a"
            ],
            [
             0.8888888888888888,
             "#fdca26"
            ],
            [
             1,
             "#f0f921"
            ]
           ]
          },
          "colorway": [
           "#636efa",
           "#EF553B",
           "#00cc96",
           "#ab63fa",
           "#FFA15A",
           "#19d3f3",
           "#FF6692",
           "#B6E880",
           "#FF97FF",
           "#FECB52"
          ],
          "font": {
           "color": "#2a3f5f"
          },
          "geo": {
           "bgcolor": "white",
           "lakecolor": "white",
           "landcolor": "#E5ECF6",
           "showlakes": true,
           "showland": true,
           "subunitcolor": "white"
          },
          "hoverlabel": {
           "align": "left"
          },
          "hovermode": "closest",
          "mapbox": {
           "style": "light"
          },
          "paper_bgcolor": "white",
          "plot_bgcolor": "#E5ECF6",
          "polar": {
           "angularaxis": {
            "gridcolor": "white",
            "linecolor": "white",
            "ticks": ""
           },
           "bgcolor": "#E5ECF6",
           "radialaxis": {
            "gridcolor": "white",
            "linecolor": "white",
            "ticks": ""
           }
          },
          "scene": {
           "xaxis": {
            "backgroundcolor": "#E5ECF6",
            "gridcolor": "white",
            "gridwidth": 2,
            "linecolor": "white",
            "showbackground": true,
            "ticks": "",
            "zerolinecolor": "white"
           },
           "yaxis": {
            "backgroundcolor": "#E5ECF6",
            "gridcolor": "white",
            "gridwidth": 2,
            "linecolor": "white",
            "showbackground": true,
            "ticks": "",
            "zerolinecolor": "white"
           },
           "zaxis": {
            "backgroundcolor": "#E5ECF6",
            "gridcolor": "white",
            "gridwidth": 2,
            "linecolor": "white",
            "showbackground": true,
            "ticks": "",
            "zerolinecolor": "white"
           }
          },
          "shapedefaults": {
           "line": {
            "color": "#2a3f5f"
           }
          },
          "ternary": {
           "aaxis": {
            "gridcolor": "white",
            "linecolor": "white",
            "ticks": ""
           },
           "baxis": {
            "gridcolor": "white",
            "linecolor": "white",
            "ticks": ""
           },
           "bgcolor": "#E5ECF6",
           "caxis": {
            "gridcolor": "white",
            "linecolor": "white",
            "ticks": ""
           }
          },
          "title": {
           "x": 0.05
          },
          "xaxis": {
           "automargin": true,
           "gridcolor": "white",
           "linecolor": "white",
           "ticks": "",
           "title": {
            "standoff": 15
           },
           "zerolinecolor": "white",
           "zerolinewidth": 2
          },
          "yaxis": {
           "automargin": true,
           "gridcolor": "white",
           "linecolor": "white",
           "ticks": "",
           "title": {
            "standoff": 15
           },
           "zerolinecolor": "white",
           "zerolinewidth": 2
          }
         }
        },
        "title": {
         "text": "Média da nota dos estudantes aprovados por ano sem as equivalências"
        },
        "xaxis": {
         "anchor": "y",
         "domain": [
          0,
          1
         ],
         "title": {
          "text": "ano"
         }
        },
        "yaxis": {
         "anchor": "x",
         "domain": [
          0,
          1
         ],
         "title": {
          "text": "nota"
         }
        }
       }
      }
     },
     "metadata": {},
     "output_type": "display_data"
    }
   ],
   "source": [
    "# Média da nota dos estudantes aprovados por ano sem as equivalências. \n",
    "df_aprovados_gb\n",
    "\n",
    "fig = px.line(df_aprovados_gb, x = 'ano', y= 'nota', markers = True)\n",
    "fig.add_vline(x = 2020, line_width=2, line_dash='dot', annotation_text = 'Anos da pandemia', annotation_position='bottom left')\n",
    "fig.add_vline(x = 2021, line_width=2, line_dash='dot')\n",
    "fig.update_layout(title= 'Média da nota dos estudantes aprovados por ano sem as equivalências')\n",
    "fig.show()"
   ]
  },
  {
   "cell_type": "code",
   "execution_count": null,
   "metadata": {},
   "outputs": [],
   "source": []
  }
 ],
 "metadata": {
  "kernelspec": {
   "display_name": "Python 3",
   "language": "python",
   "name": "python3"
  },
  "language_info": {
   "codemirror_mode": {
    "name": "ipython",
    "version": 3
   },
   "file_extension": ".py",
   "mimetype": "text/x-python",
   "name": "python",
   "nbconvert_exporter": "python",
   "pygments_lexer": "ipython3",
   "version": "3.12.3"
  },
  "orig_nbformat": 4
 },
 "nbformat": 4,
 "nbformat_minor": 2
}
